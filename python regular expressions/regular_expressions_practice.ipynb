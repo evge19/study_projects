{
 "cells": [
  {
   "cell_type": "markdown",
   "metadata": {},
   "source": [
    "# Regular expressions"
   ]
  },
  {
   "cell_type": "code",
   "execution_count": 2,
   "metadata": {},
   "outputs": [],
   "source": [
    "import re"
   ]
  },
  {
   "cell_type": "markdown",
   "metadata": {},
   "source": [
    "## Task 1:\n",
    "\n",
    "The size of the longest sunstring.\n",
    "``\n",
    "long_repeat('sdsffffse') == 4\n",
    "long_repeat('ddvvrwwwrggg') == 3\n",
    "``"
   ]
  },
  {
   "cell_type": "code",
   "execution_count": 3,
   "metadata": {},
   "outputs": [
    {
     "data": {
      "text/plain": [
       "4"
      ]
     },
     "execution_count": 3,
     "metadata": {},
     "output_type": "execute_result"
    }
   ],
   "source": [
    "s='sdsffffse'\n",
    "lst=re.findall(r'((.)\\2*)', s)\n",
    "maxstr=max(lst, key=lambda x: len(x[0]))\n",
    "len(maxstr[0])"
   ]
  },
  {
   "cell_type": "markdown",
   "metadata": {
    "collapsed": true
   },
   "source": [
    "## Task 2:\n",
    "Good password. >=10 symbols, at least one number and letter in lower and upper cases. Only latin alphabet.\n",
    "\n",
    "``\n",
    "checkio('A1213pokl') == False\n",
    "checkio('bAse730onE') == True\n",
    "checkio('asasasasasasasaas') == False\n",
    "checkio('QWERTYqwerty') == False\n",
    "checkio('123456123456') == False\n",
    "checkio('QwErTy911poqqqq') == True\n",
    "``"
   ]
  },
  {
   "cell_type": "code",
   "execution_count": 23,
   "metadata": {},
   "outputs": [
    {
     "name": "stdout",
     "output_type": "stream",
     "text": [
      "True\n"
     ]
    }
   ],
   "source": [
    "s='QwErTy911poqqqq'\n",
    "if len(s)>=10:\n",
    "    if re.findall(r'[a-z]+', s) and re.findall(r'[A-Z]+', s) and re.findall(r'\\d+', s):\n",
    "        print('True')\n",
    "    else:\n",
    "        print('False')\n",
    "else:\n",
    "    print('False')"
   ]
  },
  {
   "cell_type": "code",
   "execution_count": 24,
   "metadata": {},
   "outputs": [
    {
     "name": "stdout",
     "output_type": "stream",
     "text": [
      "True\n"
     ]
    }
   ],
   "source": [
    "s='QwErTy911poqqqq'\n",
    "if re.fullmatch(r'(?=.*[a-z])(?=.*[A-Z])(?=.*\\d)[A-Za-z0-9]{10,}', s):\n",
    "    print('True')\n",
    "else:\n",
    "    print('False')"
   ]
  },
  {
   "cell_type": "markdown",
   "metadata": {},
   "source": [
    "## Task 3:\n",
    "\n",
    "Find all numbers"
   ]
  },
  {
   "cell_type": "code",
   "execution_count": 25,
   "metadata": {},
   "outputs": [
    {
     "data": {
      "text/plain": [
       "['+1', '3', '-8', '3.9', '-8', '2', '934', '9', '6', '2.66', '-9', '7', '+99']"
      ]
     },
     "execution_count": 25,
     "metadata": {},
     "output_type": "execute_result"
    }
   ],
   "source": [
    "s='g+1dg3-eh-8doiu3.9f-8bh2.kgrf934hh9-g6ae-ahf2.66-9 7+99'\n",
    "re.findall(r'[+-]?\\d+(?:\\.\\d+)?', s)"
   ]
  },
  {
   "cell_type": "markdown",
   "metadata": {},
   "source": [
    "## Task 4:\n",
    "\n",
    "Find all words.\n",
    "\n",
    "Input:\n",
    "```python\n",
    "'''Он --- серо-буро-малиновая кошка!! \n",
    ">>>:-> \n",
    "А не кот. \n",
    "www.kot.ru'''\n",
    "```\n",
    "Output: 9"
   ]
  },
  {
   "cell_type": "code",
   "execution_count": 26,
   "metadata": {},
   "outputs": [
    {
     "data": {
      "text/plain": [
       "9"
      ]
     },
     "execution_count": 26,
     "metadata": {},
     "output_type": "execute_result"
    }
   ],
   "source": [
    "s='''Он --- серо-буро-малиновая кошка!! \n",
    ">>>:-> \n",
    "А не кот. \n",
    "www.kot.ru'''\n",
    "len(re.findall(r'[A-Za-zА-Яа-яЁё]+(?:-[A-Za-zА-Яа-яЁё]+)*', s))"
   ]
  },
  {
   "cell_type": "code",
   "execution_count": 27,
   "metadata": {},
   "outputs": [
    {
     "data": {
      "text/plain": [
       "[' серо-буро-малиновая', ' кошка', ' \\nА не кот', ' \\nwww', 'kot']"
      ]
     },
     "execution_count": 27,
     "metadata": {},
     "output_type": "execute_result"
    }
   ],
   "source": [
    "s='''Он --- серо-буро-малиновая кошка!! \n",
    ">>>:-> \n",
    "А не кот. \n",
    "www.kot.ru'''\n",
    "re.findall(r'(?:([\\s\\b]*?[\\w]+[\\b\\s]*?-*?[\\w]+[\\b\\s]*?-*?[\\w]+[\\b\\s]*?))', s)"
   ]
  },
  {
   "cell_type": "code",
   "execution_count": 28,
   "metadata": {},
   "outputs": [
    {
     "data": {
      "text/plain": [
       "['Он',\n",
       " 'серо',\n",
       " 'буро',\n",
       " 'малиновая',\n",
       " 'кошка',\n",
       " 'А',\n",
       " 'не',\n",
       " 'кот',\n",
       " 'www',\n",
       " 'kot',\n",
       " 'ru']"
      ]
     },
     "execution_count": 28,
     "metadata": {},
     "output_type": "execute_result"
    }
   ],
   "source": [
    "s='''Он --- серо-буро-малиновая кошка!! \n",
    ">>>:-> \n",
    "А не кот. \n",
    "www.kot.ru'''\n",
    "re.findall(r'([\\w]+)', s)"
   ]
  },
  {
   "cell_type": "markdown",
   "metadata": {},
   "source": [
    "## Task 5:\n",
    "\n",
    "Define the type of car plate.\n",
    "\n",
    "\n",
    "Private: 1 letter, 3 numbers, 2 letters, 2/3 numbers.\n",
    "\n",
    "Taxi: 2 letters, 3 numbers, 2/3 numbers.\n",
    "\n",
    "С227НА777 -> Private  \n",
    "КУ22777 -> Taxi  \n",
    "Т22В7477 -> Fail   \n",
    "М227К19У9 -> Fail  \n",
    "?С227НА777 -> Fail  "
   ]
  },
  {
   "cell_type": "code",
   "execution_count": 29,
   "metadata": {},
   "outputs": [
    {
     "name": "stdout",
     "output_type": "stream",
     "text": [
      "Private\n"
     ]
    }
   ],
   "source": [
    "s='С227НА777'\n",
    "if re.findall(r'\\A[АВЕКМНОРСТУХ]{1}\\d{3}[АВЕКМНОРСТУХ]{2}\\d{2,3}\\Z', s)!=[]:\n",
    "    print(\"Private\")\n",
    "elif re.findall(r'\\A[АВЕКМНОРСТУХ]{2}\\d{5,6}\\Z', s)!=[]:\n",
    "    print(\"Taxi\")\n",
    "else:\n",
    "    print(\"Fail\")\n"
   ]
  },
  {
   "cell_type": "markdown",
   "metadata": {},
   "source": [
    "## Task 6:\n",
    "\n",
    "First letters of each word in the text. Output upper case.\n",
    "\n",
    "Московский государственный институт международных отношений -> МГИМО  "
   ]
  },
  {
   "cell_type": "code",
   "execution_count": 30,
   "metadata": {},
   "outputs": [
    {
     "data": {
      "text/plain": [
       "'МГИМО'"
      ]
     },
     "execution_count": 30,
     "metadata": {},
     "output_type": "execute_result"
    }
   ],
   "source": [
    "s=\"Московский государственный институт международных отношений\"\n",
    "s=s.upper()\n",
    "''.join(re.findall(r'(\\b[А-ЯЁ])', s))"
   ]
  },
  {
   "cell_type": "markdown",
   "metadata": {},
   "source": [
    "## Task 7:\n",
    "\n",
    "Find upper case letters in the text.\n",
    "\n",
    "Examples:\n",
    "\n",
    "\n",
    "```python\n",
    "find_message(\"How are you? Eh, ok. Low or Lower? Ohhh.\") == \"HELLO\"\n",
    "find_message(\"hello world!\") == \"\"\n",
    "```"
   ]
  },
  {
   "cell_type": "code",
   "execution_count": 31,
   "metadata": {},
   "outputs": [
    {
     "data": {
      "text/plain": [
       "'HELLO'"
      ]
     },
     "execution_count": 31,
     "metadata": {},
     "output_type": "execute_result"
    }
   ],
   "source": [
    "s=\"How are you? Eh, ok. Low or Lower? Ohhh.\"\n",
    "lst=[]\n",
    "for e in s:\n",
    "    if e.isupper():\n",
    "        lst.append(e)\n",
    "''.join(lst)"
   ]
  },
  {
   "cell_type": "code",
   "execution_count": 32,
   "metadata": {},
   "outputs": [
    {
     "data": {
      "text/plain": [
       "'HELLO'"
      ]
     },
     "execution_count": 32,
     "metadata": {},
     "output_type": "execute_result"
    }
   ],
   "source": [
    "s=\"How are you? Eh, ok. Low or Lower? Ohhh.\"\n",
    "''.join(re.findall(r'(\\b[A-Z]+?)', s))"
   ]
  },
  {
   "cell_type": "markdown",
   "metadata": {},
   "source": [
    "## Task 8:\n",
    "\n",
    "if there 3 words in a row in the string.\n",
    "\n",
    "\n",
    "\n",
    "```python\n",
    "three_words(\"Hello World hello\") == True\n",
    "three_words(\"He is 123 man\") == False\n",
    "three_words(\"1 2 3 4\") == False\n",
    "three_words(\"bla bla bla bla\") == True\n",
    "three_words(\"Hi\") == False\n",
    "```"
   ]
  },
  {
   "cell_type": "code",
   "execution_count": 33,
   "metadata": {},
   "outputs": [
    {
     "name": "stdout",
     "output_type": "stream",
     "text": [
      "True\n"
     ]
    }
   ],
   "source": [
    "s=\"He is a 123 man\"\n",
    "print(re.findall(r'(\\b[A-Za-z]+[\\b\\s]*){3}', s)!=[])"
   ]
  },
  {
   "cell_type": "markdown",
   "metadata": {},
   "source": [
    "## Task 9:\n",
    "\n",
    "How many mails have been recieved from each organization.\n",
    "Organization: letter after @ and before first dot. ```stephen.marquard@```**```uct```**```.ac.za```  \n",
    " \n",
    "-----\n",
    "**```From stephen.marquard@```*```uct```*```.ac.za Sat Jan  5 09:14:16 2008```**  \n",
    "```Return-Path: <postmaster@collab.sakaiproject.org>  \n",
    "Received: from murder (mail.umich.edu [141.211.14.90])  \n",
    "...  \n",
    "Date: Sat, 5 Jan 2008 09:12:18 -0500  \n",
    "X-Authentication-Warning: nakamura.uits.iupui.edu: apache set sender to stephen.marquard@uct.ac.za using -f  \n",
    "To: source@collab.sakaiproject.org  ```  \n",
    "*```From: stephen.marquard@uct.ac.za```* \n",
    "\n"
   ]
  },
  {
   "cell_type": "code",
   "execution_count": 34,
   "metadata": {},
   "outputs": [
    {
     "data": {
      "text/plain": [
       "6687002"
      ]
     },
     "execution_count": 34,
     "metadata": {},
     "output_type": "execute_result"
    }
   ],
   "source": [
    "with open('mbox.txt') as f:\n",
    "    text = f.read()\n",
    "len(text)"
   ]
  },
  {
   "cell_type": "code",
   "execution_count": 35,
   "metadata": {},
   "outputs": [
    {
     "data": {
      "text/plain": [
       "Counter({'uct': 96,\n",
       "         'media': 56,\n",
       "         'umich': 491,\n",
       "         'iupui': 536,\n",
       "         'caret': 157,\n",
       "         'gmail': 25,\n",
       "         'indiana': 178,\n",
       "         'et': 17,\n",
       "         'vt': 110,\n",
       "         'lancaster': 14,\n",
       "         'ucdavis': 1,\n",
       "         'ufp': 28,\n",
       "         'txstate': 17,\n",
       "         'stanford': 12,\n",
       "         'whitman': 17,\n",
       "         'rsmart': 8,\n",
       "         'fhda': 1,\n",
       "         'bu': 14,\n",
       "         'unicon': 9,\n",
       "         'loi': 9,\n",
       "         'utoronto': 1})"
      ]
     },
     "execution_count": 35,
     "metadata": {},
     "output_type": "execute_result"
    }
   ],
   "source": [
    "from collections import Counter\n",
    "\n",
    "with open('mbox.txt') as f:\n",
    "    text = f.read()\n",
    "names=Counter(re.findall(r'From .*@([a-z]+).', text))\n",
    "names"
   ]
  },
  {
   "cell_type": "markdown",
   "metadata": {},
   "source": [
    "## Task 10:\n",
    "\n",
    "Vowels and consonants striping.\n",
    "\n",
    "**Examples**  \n",
    "striped(\"My name is ...\") == 3  \n",
    "striped(\"Hello world\") == 0  \n",
    "striped(\"A quantity of striped words.\") == 1, \"of\"  \n",
    "striped(\"Dog,cat,mouse,bird.Human.\") == 3  "
   ]
  },
  {
   "cell_type": "code",
   "execution_count": 36,
   "metadata": {},
   "outputs": [
    {
     "data": {
      "text/plain": [
       "['zaz', 'aza', 'zaza', 'azaz']"
      ]
     },
     "execution_count": 36,
     "metadata": {},
     "output_type": "execute_result"
    }
   ],
   "source": [
    "s='zaz aza a z azza zaaz zaza azaz'\n",
    "re.findall(r'\\b(?:za)+z?\\b|\\b(?:az)+a?\\b', s)"
   ]
  },
  {
   "cell_type": "code",
   "execution_count": 37,
   "metadata": {},
   "outputs": [
    {
     "data": {
      "text/plain": [
       "3"
      ]
     },
     "execution_count": 37,
     "metadata": {},
     "output_type": "execute_result"
    }
   ],
   "source": [
    "s='Dog,cat,mouse,bird.Human.'\n",
    "s=s.upper()\n",
    "len(re.findall(r'\\b(?:[BCDFGHJKLMNPQRSTVWXZ][AEIOUY])+[BCDFGHJKLMNPQRSTVWXZ]?\\b|\\b(?:[AEIOUY][BCDFGHJKLMNPQRSTVWXZ])+[AEIOUY]?\\b', s))"
   ]
  },
  {
   "cell_type": "code",
   "execution_count": 38,
   "metadata": {},
   "outputs": [
    {
     "data": {
      "text/plain": [
       "['DOG', 'CAT', 'HUMAN']"
      ]
     },
     "execution_count": 38,
     "metadata": {},
     "output_type": "execute_result"
    }
   ],
   "source": [
    "s='''Dog,cat,mouse,bird.\n",
    "Human.'''\n",
    "s=s.upper()\n",
    "re.findall(r'\\b(?:[BCDFGHJKLMNPQRSTVWXZ][AEIOUY])+[BCDFGHJKLMNPQRSTVWXZ]?\\b|\\b(?:[AEIOUY][BCDFGHJKLMNPQRSTVWXZ])+[AEIOUY]?\\b', s)"
   ]
  },
  {
   "cell_type": "markdown",
   "metadata": {},
   "source": [
    "## Task 11:\n",
    "\n",
    "Find tokens  \n",
    "\n",
    "     Над диван-кроватью висела полочка. На ней лежала книга Ф. М. Достоевского \"Идиот\". Она сказала: \"Я купила её в Санкт-Петербурге за 9 р. 50 коп., а этот плакат - в Нью-Йорке за 1.2$\".  \n",
    "     Нефть подорожала на 2,5%.  \n",
    "     Л.Н.Толстой и др. писатели."
   ]
  },
  {
   "cell_type": "code",
   "execution_count": 39,
   "metadata": {},
   "outputs": [
    {
     "data": {
      "text/plain": [
       "['9', '50', '1.2', '2,5']"
      ]
     },
     "execution_count": 39,
     "metadata": {},
     "output_type": "execute_result"
    }
   ],
   "source": [
    "s='''Над диван-кроватью висела полочка. На ней лежала книга Ф. М. Достоевского \"Идиот\". Она сказала: \"Я купила её в Санкт-Петербурге за 9 р. 50 коп., а этот плакат - в Нью-Йорке за 1.2$\".  \n",
    " Нефть подорожала на 2,5%.  \n",
    " Л.Н.Толстой и др. писатели.'''\n",
    "re.findall(r'''(?x)\n",
    " [+-]?\\d+(?:[\\.,]\\d+)?|      \n",
    " b''', s)"
   ]
  },
  {
   "cell_type": "code",
   "execution_count": 19,
   "metadata": {},
   "outputs": [
    {
     "data": {
      "text/plain": [
       "['Над',\n",
       " 'диван-кроватью',\n",
       " 'висела',\n",
       " 'полочка',\n",
       " '.',\n",
       " 'На',\n",
       " 'ней',\n",
       " 'лежала',\n",
       " 'книга',\n",
       " 'Ф. М. Достоевского',\n",
       " '\"Идиот\"',\n",
       " '.',\n",
       " 'Она',\n",
       " 'сказала',\n",
       " ':',\n",
       " 'Я',\n",
       " 'купила',\n",
       " 'её',\n",
       " 'в',\n",
       " 'Санкт-Петербурге',\n",
       " 'за',\n",
       " '9 р. 50 коп.',\n",
       " ',',\n",
       " 'а',\n",
       " 'этот',\n",
       " 'плакат',\n",
       " '-',\n",
       " 'в',\n",
       " 'Нью-Йорке',\n",
       " 'за',\n",
       " '1.2$',\n",
       " '.',\n",
       " 'Нефть',\n",
       " 'подорожала',\n",
       " 'на',\n",
       " '2,5%',\n",
       " '.',\n",
       " 'Л.Н.Толстой',\n",
       " 'и',\n",
       " 'др.',\n",
       " 'писатели',\n",
       " '.']"
      ]
     },
     "execution_count": 19,
     "metadata": {},
     "output_type": "execute_result"
    }
   ],
   "source": [
    "s='''Над диван-кроватью висела полочка. На ней лежала книга Ф. М. Достоевского \"Идиот\". Она сказала: \"Я купила её в Санкт-Петербурге за 9 р. 50 коп., а этот плакат - в Нью-Йорке за 1.2$\".  \n",
    " Нефть подорожала на 2,5%.  \n",
    " Л.Н.Толстой и др. писатели.'''\n",
    "re.findall(r'''(?x)\n",
    "\\d+\\sр\\.\\s+(?:\\d+\\s+коп.)?|\n",
    " \\d+(?:[\\.,]\\d+)?[%$]|\n",
    "[А-ЯЁ]\\.\\s?[А-ЯЁ]\\.\\s?[А-ЯЁ][а-яё]+|\n",
    " др.|т.д.|т.е.|\n",
    "\"[А-Яа-яЁё]+\"|\n",
    " [А-Яа-яЁё]+(?:-[А-Яа-яЁё]+)*|\n",
    " [.,:-]\n",
    "\n",
    " ''', s)"
   ]
  },
  {
   "cell_type": "code",
   "execution_count": 41,
   "metadata": {},
   "outputs": [
    {
     "data": {
      "text/plain": [
       "['Ф. М. Достоевского']"
      ]
     },
     "execution_count": 41,
     "metadata": {},
     "output_type": "execute_result"
    }
   ],
   "source": [
    "s='''\"10 р. за 9 р. 50 коп., а эли2,5%..1.2$ диван-кроватью висела Ф. М. Достоевского поло'''\n",
    "re.findall(r'''(?x)\n",
    "[А-ЯЁ]\\.\\s[А-ЯЁ]\\.\\s[А-ЯЁ][а-яё]+\n",
    " ''', s)"
   ]
  },
  {
   "cell_type": "code",
   "execution_count": null,
   "metadata": {},
   "outputs": [],
   "source": []
  }
 ],
 "metadata": {
  "anaconda-cloud": {},
  "kernelspec": {
   "display_name": "Python 3 (ipykernel)",
   "language": "python",
   "name": "python3"
  },
  "language_info": {
   "codemirror_mode": {
    "name": "ipython",
    "version": 3
   },
   "file_extension": ".py",
   "mimetype": "text/x-python",
   "name": "python",
   "nbconvert_exporter": "python",
   "pygments_lexer": "ipython3",
   "version": "3.9.13"
  }
 },
 "nbformat": 4,
 "nbformat_minor": 1
}
