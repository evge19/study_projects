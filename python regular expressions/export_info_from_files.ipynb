{
 "cells": [
  {
   "cell_type": "markdown",
   "metadata": {},
   "source": [
    "# Information processing from json and xml files\n",
    "\n",
    "Find all users and number of their comments."
   ]
  },
  {
   "cell_type": "markdown",
   "metadata": {},
   "source": [
    "### json"
   ]
  },
  {
   "cell_type": "code",
   "execution_count": 8,
   "metadata": {},
   "outputs": [
    {
     "name": "stdout",
     "output_type": "stream",
     "text": [
      "{'Kyalah': 96, 'Dissanayake': 95, 'Tyson': 90, 'Denhi': 89, 'Findlie': 88, 'Niamh': 87, 'Ayaan': 87, 'Manisha': 86, 'Kathryn': 84, 'Steven': 82, 'Jazib': 82, 'Aila': 80, 'Lexie': 78, 'Finnean': 77, 'Archibald': 74, 'Abbeygale': 73, 'Aphra': 64, 'Domenico': 63, 'Angel': 63, 'Chardonnay': 57, 'Edwyn': 54, 'Madisyn': 52, 'Lucais': 51, 'Faisal': 51, 'Ronnie': 50, 'Luk': 48, 'Keemaya': 45, 'Tylor': 44, 'Roxabella': 36, 'Kassey': 35, 'Brookelyn': 34, 'Sayeed': 34, 'Mornach': 33, 'Hunter': 32, 'Page': 23, 'Coco': 22, 'Khalida': 21, 'Mahan': 20, 'Keetza': 19, 'Brooklynn': 19, 'Keigan': 17, 'Jannat': 17, 'Raina': 16, 'Anneroy': 16, 'Merissa': 14, 'Sarina': 6, 'Ali': 6, 'Kori': 5, 'Asa': 3, 'Kelsey': 1}\n",
      "TOTAL 2419\n"
     ]
    }
   ],
   "source": [
    "import json\n",
    "d={}\n",
    "with open('comments_326022.json', 'r', encoding = 'utf8') as f:\n",
    "    data = json.load(f)\n",
    "insdict=data[\"comments\"]\n",
    "for oneinsdict in insdict:\n",
    "    for keyone in oneinsdict:\n",
    "        if keyone=='name':\n",
    "            dictkey=oneinsdict[keyone]\n",
    "        else:\n",
    "            d[dictkey]=oneinsdict[keyone]\n",
    "print(d) \n",
    "number_of_comments=0\n",
    "for keyd, value in d.items():\n",
    "    number_of_comments=number_of_comments+value\n",
    "print(\"TOTAL\", number_of_comments)"
   ]
  },
  {
   "cell_type": "code",
   "execution_count": 9,
   "metadata": {},
   "outputs": [
    {
     "name": "stdout",
     "output_type": "stream",
     "text": [
      "{'Kyalah': 96, 'Dissanayake': 95, 'Tyson': 90, 'Denhi': 89, 'Findlie': 88, 'Niamh': 87, 'Ayaan': 87, 'Manisha': 86, 'Kathryn': 84, 'Steven': 82, 'Jazib': 82, 'Aila': 80, 'Lexie': 78, 'Finnean': 77, 'Archibald': 74, 'Abbeygale': 73, 'Aphra': 64, 'Domenico': 63, 'Angel': 63, 'Chardonnay': 57, 'Edwyn': 54, 'Madisyn': 52, 'Lucais': 51, 'Faisal': 51, 'Ronnie': 50, 'Luk': 48, 'Keemaya': 45, 'Tylor': 44, 'Roxabella': 36, 'Kassey': 35, 'Brookelyn': 34, 'Sayeed': 34, 'Mornach': 33, 'Hunter': 32, 'Page': 23, 'Coco': 22, 'Khalida': 21, 'Mahan': 20, 'Keetza': 19, 'Brooklynn': 19, 'Keigan': 17, 'Jannat': 17, 'Raina': 16, 'Anneroy': 16, 'Merissa': 14, 'Sarina': 6, 'Ali': 6, 'Kori': 5, 'Asa': 3, 'Kelsey': 1}\n"
     ]
    }
   ],
   "source": [
    "d={}\n",
    "with open('comments_326022.json', 'r', encoding = 'utf8') as f:\n",
    "    data = json.load(f)\n",
    "insdict=data[\"comments\"]\n",
    "for oneinsdict in insdict:\n",
    "    name = oneinsdict['name']\n",
    "    count = oneinsdict['count']\n",
    "    d[name]= count\n",
    "print(d) \n",
    "number_of_comments = sum(d.values())"
   ]
  },
  {
   "cell_type": "code",
   "execution_count": 10,
   "metadata": {},
   "outputs": [
    {
     "data": {
      "text/plain": [
       "2419"
      ]
     },
     "execution_count": 10,
     "metadata": {},
     "output_type": "execute_result"
    }
   ],
   "source": [
    "sum(d.values())"
   ]
  },
  {
   "cell_type": "markdown",
   "metadata": {},
   "source": [
    "### xml"
   ]
  },
  {
   "cell_type": "code",
   "execution_count": 11,
   "metadata": {},
   "outputs": [
    {
     "name": "stdout",
     "output_type": "stream",
     "text": [
      "<Element 'commentinfo' at 0x000002066E4F1770>\n",
      "<Element 'note' at 0x000002066E4F1400>\n",
      "<Element 'comments' at 0x000002066E4F1680>\n"
     ]
    }
   ],
   "source": [
    "import xml.etree.ElementTree as ET\n",
    "#\"comments_326018.xml\"\n",
    "di={}\n",
    "tree = ET.parse(\"comments_326018.xml\")\n",
    "root=tree.getroot()\n",
    "print(root)\n",
    "for e in root:\n",
    "    print(e)\n"
   ]
  },
  {
   "cell_type": "code",
   "execution_count": 12,
   "metadata": {},
   "outputs": [
    {
     "name": "stdout",
     "output_type": "stream",
     "text": [
      "{'Anise': '97', 'Mowmita': '96', 'Enrique': '92', 'Kirsten': '91', 'Robby': '91', 'Priscillia': '88', 'Chardonnay': '87', 'Farzad': '87', 'Manmohan': '84', 'Jubin': '83', 'Zeinab': '81', 'Muran': '78', 'Alanda': '75', 'Florence': '70', 'Havila': '69', 'Tiegan': '67', 'Carmel': '64', 'Zakaria': '63', 'Keerah': '59', 'Jakub': '55', 'Romany': '54', 'Rhuan': '50', 'Jian': '49', 'Mirabelle': '47', 'Derri': '43', 'Andrew': '42', 'Maryum': '42', 'Prinay': '40', 'Dominik': '37', 'Liv': '37', 'Mohammed': '36', 'Ayman': '32', 'Karissa': '32', 'Mercedes': '32', 'Rimal': '32', 'Aaminah': '31', 'Glascott': '31', 'Anubhav': '28', 'Caiden': '27', 'Al': '15', 'Pia': '15', 'Milley': '14', 'Rosie': '14', 'Mena': '13', 'Kael': '13', 'Mackenzie': '11', 'Stefin': '5', 'Sanaa': '4', 'Caera': '3', 'Alastair': '1'}\n",
      "TOTAL 2407\n"
     ]
    }
   ],
   "source": [
    "#\"comments_326018.xml\"\n",
    "d={}\n",
    "s=0\n",
    "tree = ET.parse(\"comments_326018.xml\")\n",
    "for e in tree.find('.//comments'):\n",
    "    #print(e)\n",
    "    name=e.find('name')\n",
    "    count=e.find(\"count\")\n",
    "    d[name.text]=count.text\n",
    "    b=int(count.text)\n",
    "    s=s+b\n",
    "print(d)\n",
    "print(\"TOTAL\", s)"
   ]
  },
  {
   "cell_type": "code",
   "execution_count": null,
   "metadata": {},
   "outputs": [],
   "source": []
  }
 ],
 "metadata": {
  "anaconda-cloud": {},
  "kernelspec": {
   "display_name": "Python 3 (ipykernel)",
   "language": "python",
   "name": "python3"
  },
  "language_info": {
   "codemirror_mode": {
    "name": "ipython",
    "version": 3
   },
   "file_extension": ".py",
   "mimetype": "text/x-python",
   "name": "python",
   "nbconvert_exporter": "python",
   "pygments_lexer": "ipython3",
   "version": "3.9.13"
  }
 },
 "nbformat": 4,
 "nbformat_minor": 1
}
