{
 "cells": [
  {
   "cell_type": "markdown",
   "metadata": {},
   "source": [
    "# Lexical analyzer for Python code:\n",
    "\n",
    "```python\n",
    "# Key words\n",
    "and, as, assert, break, class, continue, def, del, elif, else, except, finally, for, from, global, if, import, in, is, lambda, not, or, pass, raise, return, try, while, with, yield\n",
    "# Built-in functions\n",
    "abs, all, any, bin, callable, chr, classmethod, compile, delattr, dir, divmod, enumerate, eval, exec, filter, format, getattr, globals, hasattr, hash, help, hex, id, input, isinstance, issubclass, iter, len, locals, map, max, min, next, oct, open, ord, print, pow, repr, reversed, round, setattr, sorted, staticmethod, sum, super, vars, zip\n",
    "# Operators\n",
    "+, -, *, /, //, **, <<, >>, <, >, <=, >=, ==, !=, &, |, ^, ~, %\n",
    "# Literals\n",
    "    # Numbers:\n",
    "    1, 0.124, -178, .3\n",
    "    # Strings (including unicode):\n",
    "    r'Hi', \"Hi\", \"\"\"Hi,\n",
    "    this\n",
    "    is\n",
    "    a\n",
    "    long\n",
    "    string\"\"\", '''Hi'''\n",
    "    # Boolean:\n",
    "    True, False\n",
    "# Identifiers\n",
    "    # Var\n",
    "    m, m1, _\n",
    "    # Function\n",
    "    my_func()\n",
    "    # Method\n",
    "    my_class.method()\n",
    "    # Attribute\n",
    "    my_class.attribute\n",
    "# Comments:\n",
    "# This is an example of the comment\n",
    "```\n",
    "\n",
    "#### Example\n",
    "Input:\n",
    "```python\n",
    "f = open('mbox.txt', 'r')\n",
    "d = {}\n",
    "# From stephen.marquard@uct.ac.za Sat Jan  5 09:14:16 2008\n",
    "for line in f:\n",
    "    if line.startswith('From '): # begins with From\n",
    "        email = line.split()[1]\n",
    "        domen = email.split('@')[1]\n",
    "        org = domen.split('.')[0]\n",
    "        d[org] = d.get(org, 0) + 1\n",
    "        \n",
    "print(d)\n",
    "```\n",
    "\n",
    "Output:  \n",
    "\n",
    "\n",
    "f = open('mbox.txt', 'r')  \n",
    "\\$VAR\\$ = \\$BI_FUNCTION(\\$STRING\\$, \\$STRING\\$)  \n",
    "d = {}  \n",
    "\\$VAR\\$ = {}  \n",
    "\\# From stephen.marquard@uct.ac.za Sat Jan  5 09:14:16 2008  \n",
    "\\$COMMENT\\$  \n",
    "for line in f:  \n",
    "\\$K_WORD\\$ \\$VAR\\$ \\$K_WORD\\$ \\$VAR\\$:  \n",
    "    if line.startswith('From '): # Начинается с From  \n",
    "    \\$K_WORD\\$ \\$VAR\\$.\\$METHOD(\\$STRING\\$): \\$COMMENT\\$  \n",
    "        email = line.split()[1]  \n",
    "        \\$VAR\\$ = \\$VAR\\$.\\$METHOD()[\\$NUMBER\\$]  \n",
    "        domen = email.split('@')[1]  \n",
    "        \\$VAR\\$ = \\$VAR\\$.\\$METHOD(\\$STRING\\$)[\\$NUMBER\\$]  \n",
    "        org = domen.split('.')[0]  \n",
    "        \\$VAR\\$ = \\$VAR\\$.\\$METHOD(\\$STRING\\$)[\\$NUMBER\\$]  \n",
    "        d[org] = d.get(org, 0) + 1  \n",
    "        \\$VAR\\$[\\$VAR\\$] = \\$VAR\\$.\\$METHOD(\\$VAR\\$, \\$NUMBER\\$) \\$OPERATOR\\$ \\$NUMBER\\$  \n",
    "  \n",
    "  \n",
    "print(d)  \n",
    "\\$BI_FUNCTION(\\$VAR\\$)\n",
    "\n"
   ]
  },
  {
   "cell_type": "code",
   "execution_count": 1,
   "metadata": {},
   "outputs": [
    {
     "name": "stdout",
     "output_type": "stream",
     "text": [
      "\n",
      "\n",
      "f = open('mbox.txt', 'r')\n",
      "$VAR$ = $BI_FUNCTION($STRING$, $STRING$)\n",
      "d = {}\n",
      "$VAR$ = {}\n",
      "# From stephen.marquard@uct.ac.za Sat Jan  5 09:14:16 2008\n",
      "$COMMENT$\n",
      "for line in f:\n",
      "$K_WORD$ $VAR$ $K_WORD$ $VAR$:\n",
      "if line.startswith('From '): # Начинается с From\n",
      "$K_WORD$ $VAR$.$METHOD($STRING$): $COMMENT$\n",
      "email = line.split()[1]\n",
      "$VAR$ = $VAR$.$METHOD()[$NUMBER$]\n",
      "domen = email.split('@')[1]\n",
      "$VAR$ = $VAR$.$METHOD($STRING$)[$NUMBER$]\n",
      "org = domen.split('.')[0]\n",
      "$VAR$ = $VAR$.$METHOD($STRING$)[$NUMBER$]\n",
      "d[org] = d.get(org, 0) + 1\n",
      "$VAR$[$VAR$] = $VAR$.$METHOD($VAR$, $NUMBER$) $OPERATOR$ $NUMBER$\n",
      "\n",
      "\n",
      "print(d)\n",
      "$BI_FUNCTION($VAR$)\n",
      "\n",
      "\n",
      "my_class.attribute\n",
      "$VAR$.$ATTRIBUTE$\n",
      "my_func(dht)\n",
      "$FUNCTION($VAR$)\n",
      "\n",
      "\n",
      "\n",
      "\n"
     ]
    }
   ],
   "source": [
    "import re\n",
    "s='''\n",
    "f = open('mbox.txt', 'r')\n",
    "d = {}\n",
    "# From stephen.marquard@uct.ac.za Sat Jan  5 09:14:16 2008\n",
    "for line in f:\n",
    "    if line.startswith('From '): # Начинается с From\n",
    "        email = line.split()[1]\n",
    "        domen = email.split('@')[1]\n",
    "        org = domen.split('.')[0]\n",
    "        d[org] = d.get(org, 0) + 1\n",
    "\n",
    "print(d)\n",
    "\n",
    "my_class.attribute\n",
    "my_func(dht)\n",
    "\n",
    "'''\n",
    "lines=s.split('\\n')\n",
    " \n",
    "subs=((r'''\\b(?:and|as|assert|break|class|continue|def|del|elif|else|except|finally|for|\n",
    "from|global|if|import|in|is|lambda|not|or|pass|raise|return|try|while|with|yield)\\b''', '$K_WORD$'), \n",
    "      (r'''\\b(?:abs|all|any|bin|callable|chr|classmethod|compile|delattr|dir|divmod|enumerate|eval|exec|filter|\n",
    "      format|getattr|globals|hasattr|hash|help|hex|id|input|isinstance|issubclass|iter|len|locals|map|\n",
    "      max|min|next|oct|open|ord|print|pow|repr|\n",
    "      reversed|round|setattr|sorted|staticmethod|sum|super|vars|zip)\\b''','''$BI_FUNCTION'''),\n",
    "      (r'True|False','$BOOLEAN$'),\n",
    "      (r'#.*','$COMMENT$'),\n",
    "      (r'(\\\"\\\")?(\\'\\')?[\\'\\\"][^\\\"\\']+(\\\"\\\")?(\\'\\')?[\\'\\\"]','$STRING$'),\n",
    "      (r'\\b[+-]?\\d+(?:\\.\\d+)?\\b','$NUMBER$'),\n",
    "      (r'(\\w+\\.)\\w+\\(w*', r'\\1$METHOD('), \n",
    "      (r'\\.[a-zA-Z_]\\w*',r'.$ATTRIBUTE$'),  \n",
    "      (r'([ \\(\\[,.+|-]|^)[a-zA-Z_]\\w*\\(', r'$FUNCTION('),  \n",
    "      (r'([ \\(\\[,.+|-]|^)[a-zA-Z_]\\w*', r'\\1$VAR$'), \n",
    "      (r'''\\+|-|\\*|/|//|\\*\\*|<<|>>|<|>|<=|>=|==|!=|&|\\||\\^|~|%''', '$OPERATOR$'))\n",
    "\n",
    "\n",
    "for line in lines:\n",
    "    line = line.strip()\n",
    "    print(line)\n",
    "    for pattern, sub in subs:\n",
    "        line = re.sub(pattern, sub, line)\n",
    "    print(line)\n"
   ]
  },
  {
   "cell_type": "code",
   "execution_count": 2,
   "metadata": {},
   "outputs": [
    {
     "data": {
      "text/plain": [
       "'KW KW line cat'"
      ]
     },
     "execution_count": 2,
     "metadata": {},
     "output_type": "execute_result"
    }
   ],
   "source": [
    "def fsplit(x):\n",
    "    x=x.split(', ')\n",
    "    return x\n",
    "s='''in \n",
    "a \n",
    "line cat\n",
    "'''\n",
    "re.sub(r'\\b(?:in|a)\\b', 'KW', 'in a line cat')"
   ]
  },
  {
   "cell_type": "code",
   "execution_count": 3,
   "metadata": {},
   "outputs": [
    {
     "data": {
      "text/plain": [
       "'and|as|assert|break|class|continue|def|del|elif|else|except|finally|for|from|global|if|import|in|is|lambda|not|or|pass|raise|return|try|while|with|yield'"
      ]
     },
     "execution_count": 3,
     "metadata": {},
     "output_type": "execute_result"
    }
   ],
   "source": [
    "def fsplit(x):\n",
    "    x='|'.join(x.split(', '))\n",
    "    return x\n",
    "kwords= \"and, as, assert, break, class, continue, def, del, elif, else, except, finally, for, from, global, if, import, in, is, lambda, not, or, pass, raise, return, try, while, with, yield\"\n",
    "fsplit(kwords)"
   ]
  },
  {
   "cell_type": "code",
   "execution_count": 4,
   "metadata": {},
   "outputs": [
    {
     "name": "stdout",
     "output_type": "stream",
     "text": [
      "+|-|*|/|//|**|<<|>>|<|>|<=|>=|==|!=|&|||^|~|%\n"
     ]
    }
   ],
   "source": [
    "operators = \"+, -, *, /, //, **, <<, >>, <, >, <=, >=, ==, !=, &, |, ^, ~, %\"\n",
    "operators ='|'.join(operators.split(', '))\n",
    "print(operators)"
   ]
  },
  {
   "cell_type": "code",
   "execution_count": 5,
   "metadata": {},
   "outputs": [
    {
     "name": "stdout",
     "output_type": "stream",
     "text": [
      "\n",
      "func66\n",
      "egrf\n",
      "print(d)\n"
     ]
    }
   ],
   "source": [
    "s='''\n",
    "func66\n",
    "egrf\n",
    "print(d)'''\n",
    "s=s.split('\\n')\n",
    "for e in range(len(s)):\n",
    "    print(s[e])"
   ]
  },
  {
   "cell_type": "code",
   "execution_count": 80,
   "metadata": {},
   "outputs": [
    {
     "name": "stdout",
     "output_type": "stream",
     "text": [
      "my_class.attribute\n",
      "my_class.$ATTRIBUTE$\n",
      "my_func(lkj)\n",
      "my_func(lkj)\n",
      "mk =\n",
      "mk =\n",
      "nl3\n",
      "nl3\n",
      "my_class.method()\n",
      "my_class.$ATTRIBUTE$()\n"
     ]
    }
   ],
   "source": [
    "code = '''my_class.attribute\n",
    "my_func(lkj)\n",
    "mk =\n",
    "nl3\n",
    "my_class.method()''' \n",
    "lines = code.split('\\n')\n",
    "for line in lines:\n",
    "    print(line)\n",
    "    s1=re.sub(, line)\n",
    "    print(s1)"
   ]
  }
 ],
 "metadata": {
  "anaconda-cloud": {},
  "kernelspec": {
   "display_name": "Python 3 (ipykernel)",
   "language": "python",
   "name": "python3"
  },
  "language_info": {
   "codemirror_mode": {
    "name": "ipython",
    "version": 3
   },
   "file_extension": ".py",
   "mimetype": "text/x-python",
   "name": "python",
   "nbconvert_exporter": "python",
   "pygments_lexer": "ipython3",
   "version": "3.9.13"
  }
 },
 "nbformat": 4,
 "nbformat_minor": 1
}
